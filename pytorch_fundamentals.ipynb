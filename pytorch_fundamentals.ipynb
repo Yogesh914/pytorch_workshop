{
  "cells": [
    {
      "cell_type": "markdown",
      "metadata": {
        "id": "view-in-github",
        "colab_type": "text"
      },
      "source": [
        "<a href=\"https://colab.research.google.com/github/Yogesh914/pytorch_workshop/blob/main/pytorch_fundamentals.ipynb\" target=\"_parent\"><img src=\"https://colab.research.google.com/assets/colab-badge.svg\" alt=\"Open In Colab\"/></a>"
      ]
    },
    {
      "cell_type": "markdown",
      "source": [
        "# 🔥 PyTorch Workshop\n",
        "\n",
        "## [Click Here to Sign in](https://go.wisc.edu/ststoday)"
      ],
      "metadata": {
        "id": "5nySUFLQp5py"
      }
    },
    {
      "cell_type": "markdown",
      "metadata": {
        "collapsed": false,
        "id": "M_0BF60Mp3a_"
      },
      "source": [
        "# Pytorch Fundamentals"
      ]
    },
    {
      "cell_type": "code",
      "execution_count": null,
      "metadata": {
        "ExecuteTime": {
          "end_time": "2023-08-02T23:10:39.609363Z",
          "start_time": "2023-08-02T23:10:37.746780Z"
        },
        "collapsed": true,
        "colab": {
          "base_uri": "https://localhost:8080/",
          "height": 35
        },
        "id": "D5SpsWt_p3bH",
        "outputId": "7bd8bde1-5acc-4e43-bfe4-c368fd5ea9fb"
      },
      "outputs": [
        {
          "output_type": "execute_result",
          "data": {
            "text/plain": [
              "'cpu'"
            ],
            "application/vnd.google.colaboratory.intrinsic+json": {
              "type": "string"
            }
          },
          "metadata": {},
          "execution_count": 1
        }
      ],
      "source": [
        "import torch\n",
        "import numpy as np\n",
        "import pandas as pd\n",
        "import matplotlib.pyplot as plt\n",
        "\n",
        "device = \"cuda\" if torch.cuda.is_available() else \"cpu\"\n",
        "device"
      ]
    },
    {
      "cell_type": "markdown",
      "metadata": {
        "collapsed": false,
        "id": "Rfh4A8cUp3bI"
      },
      "source": [
        "## Tensors\n",
        "### Creating Tensors"
      ]
    },
    {
      "cell_type": "code",
      "execution_count": null,
      "metadata": {
        "ExecuteTime": {
          "end_time": "2023-08-02T23:10:39.622037Z",
          "start_time": "2023-08-02T23:10:39.611089Z"
        },
        "colab": {
          "base_uri": "https://localhost:8080/"
        },
        "id": "C58fevs6p3bI",
        "outputId": "b1d257b9-1c91-48cf-b9ac-f1ff95990754"
      },
      "outputs": [
        {
          "output_type": "execute_result",
          "data": {
            "text/plain": [
              "tensor(7)"
            ]
          },
          "metadata": {},
          "execution_count": 2
        }
      ],
      "source": [
        "scalar = torch.tensor(7)\n",
        "scalar"
      ]
    },
    {
      "cell_type": "code",
      "execution_count": null,
      "metadata": {
        "ExecuteTime": {
          "end_time": "2023-08-02T23:10:39.622330Z",
          "start_time": "2023-08-02T23:10:39.619527Z"
        },
        "colab": {
          "base_uri": "https://localhost:8080/"
        },
        "id": "F8jEZFO6p3bI",
        "outputId": "392ea60f-0cfa-4834-ed52-d52f618f25e9"
      },
      "outputs": [
        {
          "output_type": "execute_result",
          "data": {
            "text/plain": [
              "0"
            ]
          },
          "metadata": {},
          "execution_count": 3
        }
      ],
      "source": [
        "scalar.ndim"
      ]
    },
    {
      "cell_type": "code",
      "execution_count": null,
      "metadata": {
        "ExecuteTime": {
          "end_time": "2023-08-02T23:10:39.625546Z",
          "start_time": "2023-08-02T23:10:39.623267Z"
        },
        "colab": {
          "base_uri": "https://localhost:8080/"
        },
        "id": "CKZ8gnwTp3bJ",
        "outputId": "bb4706bb-1127-45d1-94ed-1b6b82643009"
      },
      "outputs": [
        {
          "output_type": "execute_result",
          "data": {
            "text/plain": [
              "7"
            ]
          },
          "metadata": {},
          "execution_count": 4
        }
      ],
      "source": [
        "scalar.item() # get the tensor back as an int"
      ]
    },
    {
      "cell_type": "code",
      "execution_count": null,
      "metadata": {
        "ExecuteTime": {
          "end_time": "2023-08-02T23:10:39.671581Z",
          "start_time": "2023-08-02T23:10:39.625913Z"
        },
        "colab": {
          "base_uri": "https://localhost:8080/"
        },
        "id": "kngJtZSap3bJ",
        "outputId": "2c61c381-7594-4501-b7cb-178aba5ef935"
      },
      "outputs": [
        {
          "output_type": "execute_result",
          "data": {
            "text/plain": [
              "tensor([7, 7])"
            ]
          },
          "metadata": {},
          "execution_count": 5
        }
      ],
      "source": [
        "vector = torch.tensor([7,7])\n",
        "vector"
      ]
    },
    {
      "cell_type": "code",
      "execution_count": null,
      "metadata": {
        "ExecuteTime": {
          "end_time": "2023-08-02T23:10:39.672879Z",
          "start_time": "2023-08-02T23:10:39.629211Z"
        },
        "colab": {
          "base_uri": "https://localhost:8080/"
        },
        "id": "k71loJUQp3bJ",
        "outputId": "e92fe622-43c3-4ea6-9e10-cd90b3013129"
      },
      "outputs": [
        {
          "output_type": "execute_result",
          "data": {
            "text/plain": [
              "1"
            ]
          },
          "metadata": {},
          "execution_count": 6
        }
      ],
      "source": [
        "vector.ndim"
      ]
    },
    {
      "cell_type": "code",
      "execution_count": null,
      "metadata": {
        "ExecuteTime": {
          "end_time": "2023-08-02T23:10:39.673328Z",
          "start_time": "2023-08-02T23:10:39.632083Z"
        },
        "colab": {
          "base_uri": "https://localhost:8080/"
        },
        "id": "w2yLJUltp3bJ",
        "outputId": "5fe32f16-2633-49d6-add9-539e89405d17"
      },
      "outputs": [
        {
          "output_type": "execute_result",
          "data": {
            "text/plain": [
              "torch.Size([2])"
            ]
          },
          "metadata": {},
          "execution_count": 7
        }
      ],
      "source": [
        "vector.shape"
      ]
    },
    {
      "cell_type": "code",
      "execution_count": null,
      "metadata": {
        "ExecuteTime": {
          "end_time": "2023-08-02T23:10:39.673793Z",
          "start_time": "2023-08-02T23:10:39.634740Z"
        },
        "colab": {
          "base_uri": "https://localhost:8080/"
        },
        "id": "yH7QobD_p3bJ",
        "outputId": "384e43c2-6a38-4b6f-bffd-c70ce2358f1c"
      },
      "outputs": [
        {
          "output_type": "execute_result",
          "data": {
            "text/plain": [
              "tensor([[1, 2],\n",
              "        [3, 4]])"
            ]
          },
          "metadata": {},
          "execution_count": 8
        }
      ],
      "source": [
        "matrix = torch.tensor([[1,2],\n",
        "                       [3,4]])\n",
        "matrix"
      ]
    },
    {
      "cell_type": "code",
      "execution_count": null,
      "metadata": {
        "ExecuteTime": {
          "end_time": "2023-08-02T23:10:39.673982Z",
          "start_time": "2023-08-02T23:10:39.638137Z"
        },
        "colab": {
          "base_uri": "https://localhost:8080/"
        },
        "id": "YDTOF88lp3bJ",
        "outputId": "d09bce11-6a62-4904-b6df-8fd31a3cba13"
      },
      "outputs": [
        {
          "output_type": "execute_result",
          "data": {
            "text/plain": [
              "2"
            ]
          },
          "metadata": {},
          "execution_count": 9
        }
      ],
      "source": [
        "matrix.ndim"
      ]
    },
    {
      "cell_type": "code",
      "execution_count": null,
      "metadata": {
        "ExecuteTime": {
          "end_time": "2023-08-02T23:10:39.674394Z",
          "start_time": "2023-08-02T23:10:39.642267Z"
        },
        "colab": {
          "base_uri": "https://localhost:8080/"
        },
        "id": "KdvXj2pHp3bJ",
        "outputId": "6635e6cf-e819-4665-967e-e784bb63d904"
      },
      "outputs": [
        {
          "output_type": "execute_result",
          "data": {
            "text/plain": [
              "tensor([3, 4])"
            ]
          },
          "metadata": {},
          "execution_count": 10
        }
      ],
      "source": [
        "matrix[1]"
      ]
    },
    {
      "cell_type": "code",
      "execution_count": null,
      "metadata": {
        "ExecuteTime": {
          "end_time": "2023-08-02T23:10:39.674568Z",
          "start_time": "2023-08-02T23:10:39.645205Z"
        },
        "colab": {
          "base_uri": "https://localhost:8080/"
        },
        "id": "Pi4-gEaSp3bJ",
        "outputId": "1dfac6d1-7ac1-41ad-f3c8-ef38475d9d28"
      },
      "outputs": [
        {
          "output_type": "execute_result",
          "data": {
            "text/plain": [
              "torch.Size([2, 2])"
            ]
          },
          "metadata": {},
          "execution_count": 11
        }
      ],
      "source": [
        "matrix.shape"
      ]
    },
    {
      "cell_type": "code",
      "execution_count": null,
      "metadata": {
        "ExecuteTime": {
          "end_time": "2023-08-02T23:10:39.675045Z",
          "start_time": "2023-08-02T23:10:39.648016Z"
        },
        "colab": {
          "base_uri": "https://localhost:8080/"
        },
        "id": "ZHwmUaNzp3bJ",
        "outputId": "3a3a9696-958a-49b2-b84c-6f16e182c1e2"
      },
      "outputs": [
        {
          "output_type": "execute_result",
          "data": {
            "text/plain": [
              "tensor([[[1, 2, 3],\n",
              "         [4, 5, 6],\n",
              "         [7, 8, 9]]])"
            ]
          },
          "metadata": {},
          "execution_count": 12
        }
      ],
      "source": [
        "tensor = torch.tensor([[[1, 2, 3],\n",
        "                        [4, 5, 6],\n",
        "                        [7, 8, 9]]])\n",
        "tensor"
      ]
    },
    {
      "cell_type": "code",
      "execution_count": null,
      "metadata": {
        "ExecuteTime": {
          "end_time": "2023-08-02T23:10:39.675249Z",
          "start_time": "2023-08-02T23:10:39.651309Z"
        },
        "colab": {
          "base_uri": "https://localhost:8080/"
        },
        "id": "ipz6j8zKp3bJ",
        "outputId": "bc770556-5a67-454a-d604-a09159134271"
      },
      "outputs": [
        {
          "output_type": "execute_result",
          "data": {
            "text/plain": [
              "3"
            ]
          },
          "metadata": {},
          "execution_count": 13
        }
      ],
      "source": [
        "tensor.ndim"
      ]
    },
    {
      "cell_type": "code",
      "execution_count": null,
      "metadata": {
        "ExecuteTime": {
          "end_time": "2023-08-02T23:10:39.675625Z",
          "start_time": "2023-08-02T23:10:39.653842Z"
        },
        "colab": {
          "base_uri": "https://localhost:8080/"
        },
        "id": "DOZeC20Hp3bJ",
        "outputId": "2f8b1523-9cbf-4869-a2c5-fb6bf0a471a8"
      },
      "outputs": [
        {
          "output_type": "execute_result",
          "data": {
            "text/plain": [
              "torch.Size([1, 3, 3])"
            ]
          },
          "metadata": {},
          "execution_count": 14
        }
      ],
      "source": [
        "tensor.shape"
      ]
    },
    {
      "cell_type": "code",
      "execution_count": null,
      "metadata": {
        "ExecuteTime": {
          "end_time": "2023-08-02T23:10:39.675869Z",
          "start_time": "2023-08-02T23:10:39.657618Z"
        },
        "colab": {
          "base_uri": "https://localhost:8080/"
        },
        "id": "3uo0S_b9p3bJ",
        "outputId": "1c6dc087-dc69-4772-e316-4f5c51256a65"
      },
      "outputs": [
        {
          "output_type": "execute_result",
          "data": {
            "text/plain": [
              "tensor([[1, 2, 3],\n",
              "        [4, 5, 6],\n",
              "        [7, 8, 9]])"
            ]
          },
          "metadata": {},
          "execution_count": 15
        }
      ],
      "source": [
        "tensor[0]"
      ]
    },
    {
      "cell_type": "markdown",
      "metadata": {
        "collapsed": false,
        "id": "YfA0FLOxp3bK"
      },
      "source": [
        "### Random Tensors"
      ]
    },
    {
      "cell_type": "code",
      "execution_count": null,
      "metadata": {
        "ExecuteTime": {
          "end_time": "2023-08-02T23:10:39.704870Z",
          "start_time": "2023-08-02T23:10:39.659485Z"
        },
        "colab": {
          "base_uri": "https://localhost:8080/"
        },
        "id": "i1rYdnDEp3bK",
        "outputId": "fcaa9d10-569d-4799-a974-3c44d576c8c0"
      },
      "outputs": [
        {
          "output_type": "execute_result",
          "data": {
            "text/plain": [
              "tensor([[0.6492, 0.1820, 0.5076, 0.9633],\n",
              "        [0.9703, 0.4471, 0.8267, 0.7552],\n",
              "        [0.5443, 0.9410, 0.9077, 0.2491]])"
            ]
          },
          "metadata": {},
          "execution_count": 16
        }
      ],
      "source": [
        "random_tensor = torch.rand(3, 4)\n",
        "random_tensor"
      ]
    },
    {
      "cell_type": "code",
      "execution_count": null,
      "metadata": {
        "ExecuteTime": {
          "end_time": "2023-08-02T23:10:39.705871Z",
          "start_time": "2023-08-02T23:10:39.676803Z"
        },
        "colab": {
          "base_uri": "https://localhost:8080/"
        },
        "id": "Y9WCtCRCp3bK",
        "outputId": "04cbf4a6-7c64-4ef2-9991-03cc80020236"
      },
      "outputs": [
        {
          "output_type": "execute_result",
          "data": {
            "text/plain": [
              "2"
            ]
          },
          "metadata": {},
          "execution_count": 17
        }
      ],
      "source": [
        "random_tensor.ndim"
      ]
    },
    {
      "cell_type": "code",
      "execution_count": null,
      "metadata": {
        "ExecuteTime": {
          "end_time": "2023-08-02T23:10:39.706017Z",
          "start_time": "2023-08-02T23:10:39.679111Z"
        },
        "colab": {
          "base_uri": "https://localhost:8080/"
        },
        "id": "dQp75hlup3bK",
        "outputId": "57f8eb45-8749-4c88-db68-70dae542aead"
      },
      "outputs": [
        {
          "output_type": "execute_result",
          "data": {
            "text/plain": [
              "(torch.Size([224, 224, 3]), 3)"
            ]
          },
          "metadata": {},
          "execution_count": 18
        }
      ],
      "source": [
        "random_image_size_tensor = torch.rand(size=(224, 224, 3)) # height, width, color channels i.e. RGB\n",
        "\n",
        "random_image_size_tensor.shape, random_image_size_tensor.ndim"
      ]
    },
    {
      "cell_type": "markdown",
      "metadata": {
        "collapsed": false,
        "id": "mhpup4_Rp3bK"
      },
      "source": [
        "### Zeros and Ones"
      ]
    },
    {
      "cell_type": "code",
      "execution_count": null,
      "metadata": {
        "ExecuteTime": {
          "end_time": "2023-08-02T23:10:39.706436Z",
          "start_time": "2023-08-02T23:10:39.682808Z"
        },
        "colab": {
          "base_uri": "https://localhost:8080/"
        },
        "id": "bE1S-VF5p3bK",
        "outputId": "b1a9fe69-3a92-4f3a-ae18-0ab4b810165d"
      },
      "outputs": [
        {
          "output_type": "execute_result",
          "data": {
            "text/plain": [
              "tensor([[0., 0., 0.],\n",
              "        [0., 0., 0.],\n",
              "        [0., 0., 0.]])"
            ]
          },
          "metadata": {},
          "execution_count": 19
        }
      ],
      "source": [
        "zeros = torch.zeros(size=(3,3))\n",
        "zeros"
      ]
    },
    {
      "cell_type": "code",
      "execution_count": null,
      "metadata": {
        "ExecuteTime": {
          "end_time": "2023-08-02T23:10:39.706594Z",
          "start_time": "2023-08-02T23:10:39.686163Z"
        },
        "colab": {
          "base_uri": "https://localhost:8080/"
        },
        "id": "hL1nYoNqp3bK",
        "outputId": "589212f6-6298-4d14-cd62-20c2782de91e"
      },
      "outputs": [
        {
          "output_type": "execute_result",
          "data": {
            "text/plain": [
              "tensor([[1., 1., 1.],\n",
              "        [1., 1., 1.],\n",
              "        [1., 1., 1.]])"
            ]
          },
          "metadata": {},
          "execution_count": 20
        }
      ],
      "source": [
        "ones = torch.ones(size=(3,3))\n",
        "ones"
      ]
    },
    {
      "cell_type": "code",
      "execution_count": null,
      "metadata": {
        "ExecuteTime": {
          "end_time": "2023-08-02T23:10:39.706713Z",
          "start_time": "2023-08-02T23:10:39.689449Z"
        },
        "colab": {
          "base_uri": "https://localhost:8080/"
        },
        "id": "MpEUZ9dap3bK",
        "outputId": "6bb3b00b-6c00-4967-f79f-05917b085504"
      },
      "outputs": [
        {
          "output_type": "execute_result",
          "data": {
            "text/plain": [
              "torch.float32"
            ]
          },
          "metadata": {},
          "execution_count": 21
        }
      ],
      "source": [
        "ones.dtype"
      ]
    },
    {
      "cell_type": "markdown",
      "metadata": {
        "collapsed": false,
        "id": "v0ipBt9mp3bK"
      },
      "source": [
        "### Range of tensors and tensors-like"
      ]
    },
    {
      "cell_type": "code",
      "execution_count": null,
      "metadata": {
        "ExecuteTime": {
          "end_time": "2023-08-02T23:10:39.806685Z",
          "start_time": "2023-08-02T23:10:39.692475Z"
        },
        "colab": {
          "base_uri": "https://localhost:8080/"
        },
        "id": "3_NtFmQ0p3bK",
        "outputId": "0fc7b288-8d6d-4c09-8256-4ca98e98b5d9"
      },
      "outputs": [
        {
          "output_type": "execute_result",
          "data": {
            "text/plain": [
              "tensor([  0,  50, 100, 150, 200, 250, 300, 350, 400, 450, 500, 550, 600, 650,\n",
              "        700, 750, 800, 850, 900, 950])"
            ]
          },
          "metadata": {},
          "execution_count": 22
        }
      ],
      "source": [
        "torch.arange(start=0, end=1000, step=50)"
      ]
    },
    {
      "cell_type": "code",
      "execution_count": null,
      "metadata": {
        "ExecuteTime": {
          "end_time": "2023-08-02T23:10:39.806898Z",
          "start_time": "2023-08-02T23:10:39.696065Z"
        },
        "colab": {
          "base_uri": "https://localhost:8080/"
        },
        "id": "YvDkN2_jp3bK",
        "outputId": "8df78dc3-a965-4993-fee8-f8199b7633aa"
      },
      "outputs": [
        {
          "output_type": "execute_result",
          "data": {
            "text/plain": [
              "tensor([0, 1, 2, 3, 4, 5, 6, 7, 8, 9])"
            ]
          },
          "metadata": {},
          "execution_count": 23
        }
      ],
      "source": [
        "zero_to_ten = torch.arange(0, 10)\n",
        "zero_to_ten"
      ]
    },
    {
      "cell_type": "code",
      "execution_count": null,
      "metadata": {
        "ExecuteTime": {
          "end_time": "2023-08-02T23:10:39.806992Z",
          "start_time": "2023-08-02T23:10:39.700399Z"
        },
        "colab": {
          "base_uri": "https://localhost:8080/"
        },
        "id": "-nkkm0hrp3bK",
        "outputId": "67512640-d3ba-41c4-afe2-d87500cc3ebe"
      },
      "outputs": [
        {
          "output_type": "execute_result",
          "data": {
            "text/plain": [
              "tensor([0, 0, 0, 0, 0, 0, 0, 0, 0, 0])"
            ]
          },
          "metadata": {},
          "execution_count": 24
        }
      ],
      "source": [
        "ten_zeros = torch.zeros_like(zero_to_ten)\n",
        "ten_zeros"
      ]
    },
    {
      "cell_type": "markdown",
      "metadata": {
        "collapsed": false,
        "id": "4B5rfdtWp3bK"
      },
      "source": [
        "### Tensor Datatypes"
      ]
    },
    {
      "cell_type": "code",
      "execution_count": null,
      "metadata": {
        "ExecuteTime": {
          "end_time": "2023-08-02T23:10:39.807162Z",
          "start_time": "2023-08-02T23:10:39.702404Z"
        },
        "colab": {
          "base_uri": "https://localhost:8080/"
        },
        "id": "qslQpJmHp3bK",
        "outputId": "c34dd86a-6948-42c9-88d7-b93635a51823"
      },
      "outputs": [
        {
          "output_type": "execute_result",
          "data": {
            "text/plain": [
              "tensor([3., 2., 9.])"
            ]
          },
          "metadata": {},
          "execution_count": 25
        }
      ],
      "source": [
        "#float 32\n",
        "float_32_tensor = torch.tensor([3.0, 2.0, 9.0],\n",
        "                               dtype=None,\n",
        "                               device=None, # what device is your tensor on? cuda, mps, cpu?\n",
        "                               requires_grad=False) # whether or not to track gradients with this tensors operations\n",
        "\n",
        "float_32_tensor"
      ]
    },
    {
      "cell_type": "code",
      "execution_count": null,
      "metadata": {
        "ExecuteTime": {
          "end_time": "2023-08-02T23:10:39.821934Z",
          "start_time": "2023-08-02T23:10:39.705416Z"
        },
        "colab": {
          "base_uri": "https://localhost:8080/"
        },
        "id": "ZRIV58jrp3bL",
        "outputId": "bfea96b7-11c6-44b5-a63e-b02ef86f9f2e"
      },
      "outputs": [
        {
          "output_type": "execute_result",
          "data": {
            "text/plain": [
              "torch.float32"
            ]
          },
          "metadata": {},
          "execution_count": 26
        }
      ],
      "source": [
        "float_32_tensor.dtype"
      ]
    },
    {
      "cell_type": "code",
      "execution_count": null,
      "metadata": {
        "ExecuteTime": {
          "end_time": "2023-08-02T23:10:39.822624Z",
          "start_time": "2023-08-02T23:10:39.707949Z"
        },
        "colab": {
          "base_uri": "https://localhost:8080/"
        },
        "id": "Cb-h9d5Op3bL",
        "outputId": "99487d97-9629-49e3-9140-45a60aaf542b"
      },
      "outputs": [
        {
          "output_type": "execute_result",
          "data": {
            "text/plain": [
              "tensor([3., 2., 9.], dtype=torch.float16)"
            ]
          },
          "metadata": {},
          "execution_count": 27
        }
      ],
      "source": [
        "float_16_tensor = float_32_tensor.type(torch.float16)\n",
        "float_16_tensor"
      ]
    },
    {
      "cell_type": "markdown",
      "metadata": {
        "collapsed": false,
        "id": "DOWd-DjNp3bL"
      },
      "source": [
        "Errors when working with tensors are usually to do with the:\n",
        "* datatype\n",
        "* shape\n",
        "* device"
      ]
    },
    {
      "cell_type": "code",
      "execution_count": null,
      "metadata": {
        "ExecuteTime": {
          "end_time": "2023-08-02T23:10:39.822941Z",
          "start_time": "2023-08-02T23:10:39.714087Z"
        },
        "colab": {
          "base_uri": "https://localhost:8080/"
        },
        "id": "IU1gb3pBp3bL",
        "outputId": "f17fabbd-6198-4007-fce8-94d7b34f29bd"
      },
      "outputs": [
        {
          "output_type": "execute_result",
          "data": {
            "text/plain": [
              "tensor([[0.6492, 0.1820, 0.5076, 0.9633],\n",
              "        [0.9703, 0.4471, 0.8267, 0.7552],\n",
              "        [0.5443, 0.9410, 0.9077, 0.2491]])"
            ]
          },
          "metadata": {},
          "execution_count": 28
        }
      ],
      "source": [
        "random_tensor"
      ]
    },
    {
      "cell_type": "code",
      "execution_count": null,
      "metadata": {
        "ExecuteTime": {
          "end_time": "2023-08-02T23:10:39.823126Z",
          "start_time": "2023-08-02T23:10:39.717174Z"
        },
        "colab": {
          "base_uri": "https://localhost:8080/"
        },
        "id": "Pl1ngLgkp3bL",
        "outputId": "a4475b55-bd24-4603-e9be-393c5b3c4f35"
      },
      "outputs": [
        {
          "output_type": "stream",
          "name": "stdout",
          "text": [
            "Shape: torch.Size([3, 4])\n",
            "Device: cpu\n",
            "Datatype: torch.float32\n"
          ]
        }
      ],
      "source": [
        "print(f\"Shape: {random_tensor.shape}\")\n",
        "print(f\"Device: {random_tensor.device}\")\n",
        "print(f\"Datatype: {random_tensor.dtype}\")"
      ]
    },
    {
      "cell_type": "markdown",
      "metadata": {
        "collapsed": false,
        "id": "BkzPPxVzp3bL"
      },
      "source": [
        "### Tensor Operations"
      ]
    },
    {
      "cell_type": "code",
      "execution_count": null,
      "metadata": {
        "ExecuteTime": {
          "end_time": "2023-08-02T23:10:39.823312Z",
          "start_time": "2023-08-02T23:10:39.719509Z"
        },
        "colab": {
          "base_uri": "https://localhost:8080/"
        },
        "id": "D68z33Kup3bL",
        "outputId": "d9e08b86-3c33-4f2d-f028-32daf07a5224"
      },
      "outputs": [
        {
          "output_type": "execute_result",
          "data": {
            "text/plain": [
              "tensor([1, 2, 3])"
            ]
          },
          "metadata": {},
          "execution_count": 30
        }
      ],
      "source": [
        "tensor = torch.tensor([1,2,3])\n",
        "tensor"
      ]
    },
    {
      "cell_type": "code",
      "execution_count": null,
      "metadata": {
        "ExecuteTime": {
          "end_time": "2023-08-02T23:10:39.823467Z",
          "start_time": "2023-08-02T23:10:39.722527Z"
        },
        "colab": {
          "base_uri": "https://localhost:8080/"
        },
        "id": "tY2DrvFCp3bL",
        "outputId": "d831b781-0441-47d0-e28e-1248512673e5"
      },
      "outputs": [
        {
          "output_type": "execute_result",
          "data": {
            "text/plain": [
              "tensor([11, 12, 13])"
            ]
          },
          "metadata": {},
          "execution_count": 31
        }
      ],
      "source": [
        "tensor + 10"
      ]
    },
    {
      "cell_type": "code",
      "execution_count": null,
      "metadata": {
        "ExecuteTime": {
          "end_time": "2023-08-02T23:10:39.823660Z",
          "start_time": "2023-08-02T23:10:39.725684Z"
        },
        "colab": {
          "base_uri": "https://localhost:8080/"
        },
        "id": "7tVgGM2xp3bL",
        "outputId": "2e9b2b4d-d4ef-425d-937b-8706a50fede0"
      },
      "outputs": [
        {
          "output_type": "execute_result",
          "data": {
            "text/plain": [
              "tensor([-9, -8, -7])"
            ]
          },
          "metadata": {},
          "execution_count": 32
        }
      ],
      "source": [
        "tensor - 10"
      ]
    },
    {
      "cell_type": "code",
      "execution_count": null,
      "metadata": {
        "ExecuteTime": {
          "end_time": "2023-08-02T23:10:39.823804Z",
          "start_time": "2023-08-02T23:10:39.728886Z"
        },
        "colab": {
          "base_uri": "https://localhost:8080/"
        },
        "id": "ByNbDeK_p3bM",
        "outputId": "bdb20ba3-2e6f-4f2c-d20a-5ebce6c00de6"
      },
      "outputs": [
        {
          "output_type": "execute_result",
          "data": {
            "text/plain": [
              "tensor([10, 20, 30])"
            ]
          },
          "metadata": {},
          "execution_count": 33
        }
      ],
      "source": [
        "tensor * 10"
      ]
    },
    {
      "cell_type": "code",
      "execution_count": null,
      "metadata": {
        "ExecuteTime": {
          "end_time": "2023-08-02T23:10:39.824008Z",
          "start_time": "2023-08-02T23:10:39.731929Z"
        },
        "colab": {
          "base_uri": "https://localhost:8080/"
        },
        "id": "EyW1MC7Vp3bM",
        "outputId": "c6bd7720-9f3e-4d03-a77c-bd9846286481"
      },
      "outputs": [
        {
          "output_type": "execute_result",
          "data": {
            "text/plain": [
              "tensor([10, 20, 30])"
            ]
          },
          "metadata": {},
          "execution_count": 34
        }
      ],
      "source": [
        "torch.mul(tensor, 10)"
      ]
    },
    {
      "cell_type": "code",
      "execution_count": null,
      "metadata": {
        "ExecuteTime": {
          "end_time": "2023-08-02T23:10:39.829600Z",
          "start_time": "2023-08-02T23:10:39.735439Z"
        },
        "colab": {
          "base_uri": "https://localhost:8080/"
        },
        "id": "yh3Yxjz7p3bM",
        "outputId": "8cd0dfe3-ad22-4aaf-ce91-b8a7034b3033"
      },
      "outputs": [
        {
          "output_type": "execute_result",
          "data": {
            "text/plain": [
              "tensor([11, 12, 13])"
            ]
          },
          "metadata": {},
          "execution_count": 35
        }
      ],
      "source": [
        "torch.add(tensor, 10)"
      ]
    },
    {
      "cell_type": "code",
      "execution_count": null,
      "metadata": {
        "ExecuteTime": {
          "end_time": "2023-08-02T23:10:39.830018Z",
          "start_time": "2023-08-02T23:10:39.738204Z"
        },
        "colab": {
          "base_uri": "https://localhost:8080/"
        },
        "id": "EI_l8RDXp3bM",
        "outputId": "2424dab8-121e-455f-f113-82045bbeb0c6"
      },
      "outputs": [
        {
          "output_type": "execute_result",
          "data": {
            "text/plain": [
              "tensor(14)"
            ]
          },
          "metadata": {},
          "execution_count": 36
        }
      ],
      "source": [
        "torch.matmul(tensor, tensor)"
      ]
    },
    {
      "cell_type": "code",
      "execution_count": null,
      "metadata": {
        "ExecuteTime": {
          "end_time": "2023-08-02T23:10:39.830236Z",
          "start_time": "2023-08-02T23:10:39.742616Z"
        },
        "colab": {
          "base_uri": "https://localhost:8080/"
        },
        "id": "pEaOTrmOp3bM",
        "outputId": "0d474e53-fcc1-472b-a685-ac40725474b1"
      },
      "outputs": [
        {
          "output_type": "execute_result",
          "data": {
            "text/plain": [
              "tensor([[1, 2, 3, 4, 5],\n",
              "        [1, 3, 4, 5, 5]])"
            ]
          },
          "metadata": {},
          "execution_count": 37
        }
      ],
      "source": [
        "tensor = torch.tensor([[1,2,3,4,5],[1,3,4,5,5]])\n",
        "tensor"
      ]
    },
    {
      "cell_type": "code",
      "execution_count": null,
      "metadata": {
        "ExecuteTime": {
          "end_time": "2023-08-02T23:10:39.830389Z",
          "start_time": "2023-08-02T23:10:39.744207Z"
        },
        "colab": {
          "base_uri": "https://localhost:8080/"
        },
        "id": "fgLDjit5p3bM",
        "outputId": "4aeaccc1-7a62-4619-8d18-ba9efa849d06"
      },
      "outputs": [
        {
          "output_type": "execute_result",
          "data": {
            "text/plain": [
              "tensor([[1, 1],\n",
              "        [2, 3],\n",
              "        [3, 4],\n",
              "        [4, 5],\n",
              "        [5, 5]])"
            ]
          },
          "metadata": {},
          "execution_count": 38
        }
      ],
      "source": [
        "tensor.T"
      ]
    },
    {
      "cell_type": "code",
      "execution_count": null,
      "metadata": {
        "ExecuteTime": {
          "end_time": "2023-08-02T23:10:39.830718Z",
          "start_time": "2023-08-02T23:10:39.747816Z"
        },
        "colab": {
          "base_uri": "https://localhost:8080/"
        },
        "id": "pWK7cmVHp3bM",
        "outputId": "d6f8d009-fad4-4b98-d751-9face37e4619"
      },
      "outputs": [
        {
          "output_type": "execute_result",
          "data": {
            "text/plain": [
              "(torch.Size([2, 5]), torch.Size([5, 2]))"
            ]
          },
          "metadata": {},
          "execution_count": 39
        }
      ],
      "source": [
        "tensor.shape, tensor.T.shape"
      ]
    },
    {
      "cell_type": "markdown",
      "metadata": {
        "collapsed": false,
        "id": "9rM-JQEpp3bM"
      },
      "source": [
        "### Tensor Aggregation"
      ]
    },
    {
      "cell_type": "code",
      "execution_count": null,
      "metadata": {
        "ExecuteTime": {
          "end_time": "2023-08-02T23:10:39.830927Z",
          "start_time": "2023-08-02T23:10:39.750232Z"
        },
        "colab": {
          "base_uri": "https://localhost:8080/"
        },
        "id": "3I86t4pjp3bM",
        "outputId": "356b4305-4f91-4187-9c3e-20db5251d26d"
      },
      "outputs": [
        {
          "output_type": "execute_result",
          "data": {
            "text/plain": [
              "tensor([ 0, 10, 20, 30, 40, 50, 60, 70, 80, 90])"
            ]
          },
          "metadata": {},
          "execution_count": 40
        }
      ],
      "source": [
        "x = torch.arange(0, 100, 10)\n",
        "x"
      ]
    },
    {
      "cell_type": "code",
      "execution_count": null,
      "metadata": {
        "ExecuteTime": {
          "end_time": "2023-08-02T23:10:39.831083Z",
          "start_time": "2023-08-02T23:10:39.753428Z"
        },
        "colab": {
          "base_uri": "https://localhost:8080/"
        },
        "id": "2iYDs7kEp3bM",
        "outputId": "47565bdc-7700-4b42-f39c-8d58325f4b53"
      },
      "outputs": [
        {
          "output_type": "execute_result",
          "data": {
            "text/plain": [
              "tensor(450)"
            ]
          },
          "metadata": {},
          "execution_count": 41
        }
      ],
      "source": [
        "x.sum()"
      ]
    },
    {
      "cell_type": "code",
      "execution_count": null,
      "metadata": {
        "ExecuteTime": {
          "end_time": "2023-08-02T23:10:39.831291Z",
          "start_time": "2023-08-02T23:10:39.756982Z"
        },
        "colab": {
          "base_uri": "https://localhost:8080/"
        },
        "id": "5EkuOv4Hp3bM",
        "outputId": "22c083cf-d435-4d75-8013-0b71d6f845d4"
      },
      "outputs": [
        {
          "output_type": "execute_result",
          "data": {
            "text/plain": [
              "(tensor(0), tensor(90))"
            ]
          },
          "metadata": {},
          "execution_count": 42
        }
      ],
      "source": [
        "x.min(), x.max()"
      ]
    },
    {
      "cell_type": "code",
      "execution_count": null,
      "metadata": {
        "ExecuteTime": {
          "end_time": "2023-08-02T23:10:39.831444Z",
          "start_time": "2023-08-02T23:10:39.760123Z"
        },
        "colab": {
          "base_uri": "https://localhost:8080/"
        },
        "id": "am6CrBFJp3bM",
        "outputId": "f51535d3-5145-4986-886e-fe7a9ed9618b"
      },
      "outputs": [
        {
          "output_type": "execute_result",
          "data": {
            "text/plain": [
              "tensor(45.)"
            ]
          },
          "metadata": {},
          "execution_count": 43
        }
      ],
      "source": [
        "torch.mean(x.type(torch.float32))"
      ]
    },
    {
      "cell_type": "code",
      "execution_count": null,
      "metadata": {
        "ExecuteTime": {
          "end_time": "2023-08-02T23:10:39.831560Z",
          "start_time": "2023-08-02T23:10:39.763269Z"
        },
        "colab": {
          "base_uri": "https://localhost:8080/"
        },
        "id": "tJpXicDnp3bM",
        "outputId": "c0a9a658-d7f7-45a8-d1d0-24b6dbd5f930"
      },
      "outputs": [
        {
          "output_type": "execute_result",
          "data": {
            "text/plain": [
              "tensor(9)"
            ]
          },
          "metadata": {},
          "execution_count": 44
        }
      ],
      "source": [
        "x.argmax() # position of max"
      ]
    },
    {
      "cell_type": "code",
      "execution_count": null,
      "metadata": {
        "ExecuteTime": {
          "end_time": "2023-08-02T23:10:39.831762Z",
          "start_time": "2023-08-02T23:10:39.766588Z"
        },
        "colab": {
          "base_uri": "https://localhost:8080/"
        },
        "id": "UBBT1YMPp3bN",
        "outputId": "ca2a46d2-e7ad-4f8a-e7ec-10e03be335c2"
      },
      "outputs": [
        {
          "output_type": "execute_result",
          "data": {
            "text/plain": [
              "tensor(0)"
            ]
          },
          "metadata": {},
          "execution_count": 45
        }
      ],
      "source": [
        "x.argmin()"
      ]
    },
    {
      "cell_type": "markdown",
      "metadata": {
        "collapsed": false,
        "id": "H10OrenAp3bN"
      },
      "source": [
        "### Reshaping, Stacking, Squeezing and Unsqueezing Tensors"
      ]
    },
    {
      "cell_type": "markdown",
      "metadata": {
        "collapsed": false,
        "id": "yJkgoaDwp3bN"
      },
      "source": [
        "**Reshaping** - reshape to a specific shape (has to have the same number of elements)"
      ]
    },
    {
      "cell_type": "code",
      "execution_count": null,
      "metadata": {
        "ExecuteTime": {
          "end_time": "2023-08-02T23:25:14.690095Z",
          "start_time": "2023-08-02T23:25:14.661806Z"
        },
        "colab": {
          "base_uri": "https://localhost:8080/"
        },
        "id": "YNrOJVcup3bN",
        "outputId": "0bc218b0-11f4-481d-8ad3-ebce0a605d4e"
      },
      "outputs": [
        {
          "output_type": "execute_result",
          "data": {
            "text/plain": [
              "tensor([1., 2., 3., 4., 5., 6., 7., 8., 9.])"
            ]
          },
          "metadata": {},
          "execution_count": 46
        }
      ],
      "source": [
        "x = torch.arange(1., 10.)\n",
        "x"
      ]
    },
    {
      "cell_type": "code",
      "execution_count": null,
      "metadata": {
        "ExecuteTime": {
          "end_time": "2023-08-02T23:25:14.886370Z",
          "start_time": "2023-08-02T23:25:14.880028Z"
        },
        "colab": {
          "base_uri": "https://localhost:8080/"
        },
        "id": "De0efSf-p3bN",
        "outputId": "91410ec5-60dc-4d39-af9d-c846c2622253"
      },
      "outputs": [
        {
          "output_type": "execute_result",
          "data": {
            "text/plain": [
              "tensor([[1.],\n",
              "        [2.],\n",
              "        [3.],\n",
              "        [4.],\n",
              "        [5.],\n",
              "        [6.],\n",
              "        [7.],\n",
              "        [8.],\n",
              "        [9.]])"
            ]
          },
          "metadata": {},
          "execution_count": 47
        }
      ],
      "source": [
        "x.reshape(9, 1)"
      ]
    },
    {
      "cell_type": "code",
      "execution_count": null,
      "metadata": {
        "ExecuteTime": {
          "end_time": "2023-08-02T23:25:15.050616Z",
          "start_time": "2023-08-02T23:25:15.037738Z"
        },
        "colab": {
          "base_uri": "https://localhost:8080/"
        },
        "id": "Ip41wU3lp3bN",
        "outputId": "574a9680-bf4a-4c07-9585-444f24f8f052"
      },
      "outputs": [
        {
          "output_type": "execute_result",
          "data": {
            "text/plain": [
              "tensor([[1., 2., 3.],\n",
              "        [4., 5., 6.],\n",
              "        [7., 8., 9.]])"
            ]
          },
          "metadata": {},
          "execution_count": 48
        }
      ],
      "source": [
        "x.reshape(3,3)"
      ]
    },
    {
      "cell_type": "markdown",
      "metadata": {
        "collapsed": false,
        "id": "gbDzXZ5xp3bN"
      },
      "source": [
        "**View** - return a view of an input tensor of certain shape but share memory with the original tensor"
      ]
    },
    {
      "cell_type": "code",
      "execution_count": null,
      "metadata": {
        "ExecuteTime": {
          "end_time": "2023-08-02T23:25:15.455142Z",
          "start_time": "2023-08-02T23:25:15.448136Z"
        },
        "colab": {
          "base_uri": "https://localhost:8080/"
        },
        "id": "alvSQEsqp3bN",
        "outputId": "5e725eca-5986-4d68-b637-d1c503c55211"
      },
      "outputs": [
        {
          "output_type": "execute_result",
          "data": {
            "text/plain": [
              "tensor([[1., 2., 3., 4., 5., 6., 7., 8., 9.]])"
            ]
          },
          "metadata": {},
          "execution_count": 49
        }
      ],
      "source": [
        "z = x.view(1, 9) # like a deep copy\n",
        "z"
      ]
    },
    {
      "cell_type": "code",
      "execution_count": null,
      "metadata": {
        "ExecuteTime": {
          "end_time": "2023-08-02T23:25:15.662230Z",
          "start_time": "2023-08-02T23:25:15.655567Z"
        },
        "colab": {
          "base_uri": "https://localhost:8080/"
        },
        "id": "emlquRQrp3bN",
        "outputId": "72f266dd-df67-42b0-b4c9-0e4dcb39488c"
      },
      "outputs": [
        {
          "output_type": "execute_result",
          "data": {
            "text/plain": [
              "tensor([1., 2., 3., 4., 5., 6., 7., 8., 9.])"
            ]
          },
          "metadata": {},
          "execution_count": 50
        }
      ],
      "source": [
        "x"
      ]
    },
    {
      "cell_type": "code",
      "execution_count": null,
      "metadata": {
        "ExecuteTime": {
          "end_time": "2023-08-02T23:25:15.852392Z",
          "start_time": "2023-08-02T23:25:15.846844Z"
        },
        "colab": {
          "base_uri": "https://localhost:8080/"
        },
        "id": "Em5ZDBo8p3bN",
        "outputId": "b5eb9452-d8cd-485d-96a4-f7c1ff0b2be0"
      },
      "outputs": [
        {
          "output_type": "execute_result",
          "data": {
            "text/plain": [
              "(tensor([[5., 2., 3., 4., 5., 6., 7., 8., 9.]]),\n",
              " tensor([5., 2., 3., 4., 5., 6., 7., 8., 9.]))"
            ]
          },
          "metadata": {},
          "execution_count": 51
        }
      ],
      "source": [
        "z[:, 0] = 5\n",
        "z, x"
      ]
    },
    {
      "cell_type": "markdown",
      "metadata": {
        "collapsed": false,
        "id": "GM7MrQeBp3bN"
      },
      "source": [
        "**Stacking** - combine multiple tensors i.e. vertically or horizontally stack them"
      ]
    },
    {
      "cell_type": "code",
      "execution_count": null,
      "metadata": {
        "ExecuteTime": {
          "end_time": "2023-08-02T23:25:16.393594Z",
          "start_time": "2023-08-02T23:25:16.379979Z"
        },
        "colab": {
          "base_uri": "https://localhost:8080/"
        },
        "id": "THY9L9hep3bN",
        "outputId": "685841c6-5368-4af1-930d-0333db25fda0"
      },
      "outputs": [
        {
          "output_type": "execute_result",
          "data": {
            "text/plain": [
              "tensor([5., 2., 3., 4., 5., 6., 7., 8., 9.])"
            ]
          },
          "metadata": {},
          "execution_count": 52
        }
      ],
      "source": [
        "x"
      ]
    },
    {
      "cell_type": "code",
      "execution_count": null,
      "metadata": {
        "ExecuteTime": {
          "end_time": "2023-08-02T23:25:16.575564Z",
          "start_time": "2023-08-02T23:25:16.570505Z"
        },
        "colab": {
          "base_uri": "https://localhost:8080/"
        },
        "id": "6UUhKrNvp3bN",
        "outputId": "8bbf23c0-dc67-445c-d1bd-4fea3236add2"
      },
      "outputs": [
        {
          "output_type": "execute_result",
          "data": {
            "text/plain": [
              "tensor([[5., 2., 3., 4., 5., 6., 7., 8., 9.],\n",
              "        [5., 2., 3., 4., 5., 6., 7., 8., 9.],\n",
              "        [5., 2., 3., 4., 5., 6., 7., 8., 9.],\n",
              "        [5., 2., 3., 4., 5., 6., 7., 8., 9.]])"
            ]
          },
          "metadata": {},
          "execution_count": 53
        }
      ],
      "source": [
        "x_stacked = torch.stack([x,x,x,x], dim=0) # dim = 0 vertically, 1 is horizontally typically you can have more dims depending on the dim of your tensor\n",
        "x_stacked"
      ]
    },
    {
      "cell_type": "markdown",
      "metadata": {
        "collapsed": false,
        "id": "vX-5diNVp3bO"
      },
      "source": [
        "**Squeezing** - Removes all the 1 dimensions of a tensor"
      ]
    },
    {
      "cell_type": "code",
      "execution_count": null,
      "metadata": {
        "ExecuteTime": {
          "end_time": "2023-08-02T23:25:16.945378Z",
          "start_time": "2023-08-02T23:25:16.939569Z"
        },
        "colab": {
          "base_uri": "https://localhost:8080/"
        },
        "id": "e9gRFlK_p3bO",
        "outputId": "696066a8-c76a-4679-eef0-9507bbc9b374"
      },
      "outputs": [
        {
          "output_type": "execute_result",
          "data": {
            "text/plain": [
              "tensor([[[[[0., 0.]],\n",
              "\n",
              "          [[0., 0.]]]],\n",
              "\n",
              "\n",
              "\n",
              "        [[[[0., 0.]],\n",
              "\n",
              "          [[0., 0.]]]]])"
            ]
          },
          "metadata": {},
          "execution_count": 54
        }
      ],
      "source": [
        "x = torch.zeros(2,1,2,1,2)\n",
        "x"
      ]
    },
    {
      "cell_type": "code",
      "execution_count": null,
      "metadata": {
        "ExecuteTime": {
          "end_time": "2023-08-02T23:25:17.140431Z",
          "start_time": "2023-08-02T23:25:17.133663Z"
        },
        "colab": {
          "base_uri": "https://localhost:8080/"
        },
        "id": "V_zxy1WQp3bO",
        "outputId": "e4e51777-6418-4bec-881d-952a292858e3"
      },
      "outputs": [
        {
          "output_type": "execute_result",
          "data": {
            "text/plain": [
              "torch.Size([2, 1, 2, 1, 2])"
            ]
          },
          "metadata": {},
          "execution_count": 55
        }
      ],
      "source": [
        "x.size()"
      ]
    },
    {
      "cell_type": "code",
      "execution_count": null,
      "metadata": {
        "ExecuteTime": {
          "end_time": "2023-08-02T23:25:17.437675Z",
          "start_time": "2023-08-02T23:25:17.429908Z"
        },
        "colab": {
          "base_uri": "https://localhost:8080/"
        },
        "id": "iHOF-tUjp3bO",
        "outputId": "f093f5e8-90a4-455c-a527-4add48efd0bd"
      },
      "outputs": [
        {
          "output_type": "execute_result",
          "data": {
            "text/plain": [
              "(tensor([[[0., 0.],\n",
              "          [0., 0.]],\n",
              " \n",
              "         [[0., 0.],\n",
              "          [0., 0.]]]),\n",
              " torch.Size([2, 2, 2]))"
            ]
          },
          "metadata": {},
          "execution_count": 56
        }
      ],
      "source": [
        "torch.squeeze(x), torch.squeeze(x).size()"
      ]
    },
    {
      "cell_type": "code",
      "execution_count": null,
      "metadata": {
        "ExecuteTime": {
          "end_time": "2023-08-02T23:25:17.646705Z",
          "start_time": "2023-08-02T23:25:17.635897Z"
        },
        "colab": {
          "base_uri": "https://localhost:8080/"
        },
        "id": "WQGK6me4p3bO",
        "outputId": "3c5e60e4-f5d0-4c7e-e7d7-054b194b9525"
      },
      "outputs": [
        {
          "output_type": "execute_result",
          "data": {
            "text/plain": [
              "(tensor([[[[0., 0.]],\n",
              " \n",
              "          [[0., 0.]]],\n",
              " \n",
              " \n",
              "         [[[0., 0.]],\n",
              " \n",
              "          [[0., 0.]]]]),\n",
              " torch.Size([2, 2, 1, 2]))"
            ]
          },
          "metadata": {},
          "execution_count": 57
        }
      ],
      "source": [
        "torch.squeeze(x, dim=1), torch.squeeze(x, dim=1).size() # the dim checks if at that position of the dim is a 1 or not and if it is then it removes that 1 dim"
      ]
    },
    {
      "cell_type": "markdown",
      "metadata": {
        "collapsed": false,
        "id": "-miine3ip3bO"
      },
      "source": [
        "**Unsqueeze** - add a 1 dimension to a tensor"
      ]
    },
    {
      "cell_type": "code",
      "execution_count": null,
      "metadata": {
        "ExecuteTime": {
          "end_time": "2023-08-02T23:25:53.729868Z",
          "start_time": "2023-08-02T23:25:53.713154Z"
        },
        "colab": {
          "base_uri": "https://localhost:8080/"
        },
        "id": "KkQ7ys_Cp3bO",
        "outputId": "de83edda-db52-4c57-b4e6-60ec96ae70f4"
      },
      "outputs": [
        {
          "output_type": "execute_result",
          "data": {
            "text/plain": [
              "torch.Size([2, 2, 2])"
            ]
          },
          "metadata": {},
          "execution_count": 58
        }
      ],
      "source": [
        "x_squeezed = torch.squeeze(x)\n",
        "x_squeezed.shape"
      ]
    },
    {
      "cell_type": "code",
      "execution_count": null,
      "metadata": {
        "ExecuteTime": {
          "end_time": "2023-08-02T23:27:38.661541Z",
          "start_time": "2023-08-02T23:27:38.646942Z"
        },
        "colab": {
          "base_uri": "https://localhost:8080/"
        },
        "id": "M3idJMAlp3bO",
        "outputId": "6a5622e8-0d88-4775-a030-1b2a0a76d4a8"
      },
      "outputs": [
        {
          "output_type": "execute_result",
          "data": {
            "text/plain": [
              "torch.Size([2, 1, 2, 2])"
            ]
          },
          "metadata": {},
          "execution_count": 59
        }
      ],
      "source": [
        "x_unsqueezed = torch.unsqueeze(x_squeezed, dim=1) # adds a 1 dim at that dim position\n",
        "x_unsqueezed.shape"
      ]
    },
    {
      "cell_type": "markdown",
      "metadata": {
        "collapsed": false,
        "id": "5LQpUaSjp3bO"
      },
      "source": [
        "**Permute** - return a view of the tensor with dimensions swapped in a certain way"
      ]
    },
    {
      "cell_type": "code",
      "execution_count": null,
      "metadata": {
        "ExecuteTime": {
          "end_time": "2023-08-02T23:29:29.595132Z",
          "start_time": "2023-08-02T23:29:29.561434Z"
        },
        "colab": {
          "base_uri": "https://localhost:8080/"
        },
        "id": "vfyKk2Yjp3bO",
        "outputId": "6802868e-9e28-46f1-daf9-b3ea2d4b6eb7"
      },
      "outputs": [
        {
          "output_type": "execute_result",
          "data": {
            "text/plain": [
              "torch.Size([2, 3, 5])"
            ]
          },
          "metadata": {},
          "execution_count": 60
        }
      ],
      "source": [
        "x = torch.randn(2, 3, 5)\n",
        "x.size()"
      ]
    },
    {
      "cell_type": "code",
      "execution_count": null,
      "metadata": {
        "ExecuteTime": {
          "end_time": "2023-08-02T23:34:06.578933Z",
          "start_time": "2023-08-02T23:34:06.564574Z"
        },
        "colab": {
          "base_uri": "https://localhost:8080/"
        },
        "id": "VY3a1XDrp3bO",
        "outputId": "b204ad18-d654-45b7-c3ef-826b4b99b29e"
      },
      "outputs": [
        {
          "output_type": "execute_result",
          "data": {
            "text/plain": [
              "torch.Size([5, 2, 3])"
            ]
          },
          "metadata": {},
          "execution_count": 61
        }
      ],
      "source": [
        "x_permuted = torch.permute(x, dims=(2, 0, 1)) # takes in the index positions of the dimentions you want to swap around and in what way\n",
        "\n",
        "x_permuted.size()"
      ]
    },
    {
      "cell_type": "code",
      "execution_count": null,
      "metadata": {
        "ExecuteTime": {
          "end_time": "2023-08-02T23:34:15.208696Z",
          "start_time": "2023-08-02T23:34:15.193949Z"
        },
        "colab": {
          "base_uri": "https://localhost:8080/"
        },
        "id": "tK_GJHn1p3bO",
        "outputId": "be474574-f0ee-455d-a2e4-60458b8f964e"
      },
      "outputs": [
        {
          "output_type": "execute_result",
          "data": {
            "text/plain": [
              "tensor([[[-0.0995, -0.3411,  1.1106, -0.2323,  1.6245],\n",
              "         [-1.0326,  1.0114,  0.9150,  0.8868,  0.1811],\n",
              "         [ 1.0339,  1.3157, -0.1766, -1.6390, -0.0573]],\n",
              "\n",
              "        [[-0.4321, -0.5023,  0.5485, -0.0238,  0.3624],\n",
              "         [ 1.5512,  0.6246, -1.2331,  2.3029,  0.2855],\n",
              "         [-0.5001, -0.2395,  0.6557, -0.4265, -0.2624]]])"
            ]
          },
          "metadata": {},
          "execution_count": 62
        }
      ],
      "source": [
        "x"
      ]
    },
    {
      "cell_type": "code",
      "execution_count": null,
      "metadata": {
        "ExecuteTime": {
          "end_time": "2023-08-02T23:34:31.701270Z",
          "start_time": "2023-08-02T23:34:31.690017Z"
        },
        "id": "_YFrHpXfp3bP"
      },
      "outputs": [],
      "source": [
        "x[0,0,0] = 35"
      ]
    },
    {
      "cell_type": "code",
      "execution_count": null,
      "metadata": {
        "ExecuteTime": {
          "end_time": "2023-08-02T23:34:39.850448Z",
          "start_time": "2023-08-02T23:34:39.839421Z"
        },
        "colab": {
          "base_uri": "https://localhost:8080/"
        },
        "id": "kH8A7KCJp3bP",
        "outputId": "b76912fd-ecb0-408d-abea-1ef187a56b31"
      },
      "outputs": [
        {
          "output_type": "execute_result",
          "data": {
            "text/plain": [
              "tensor(35.)"
            ]
          },
          "metadata": {},
          "execution_count": 64
        }
      ],
      "source": [
        "x_permuted[0,0,0]"
      ]
    },
    {
      "cell_type": "code",
      "execution_count": null,
      "metadata": {
        "ExecuteTime": {
          "end_time": "2023-08-02T23:32:45.403679Z",
          "start_time": "2023-08-02T23:32:45.377834Z"
        },
        "colab": {
          "base_uri": "https://localhost:8080/"
        },
        "id": "cVd4jieUp3bP",
        "outputId": "d0e7123e-6ab7-4b79-9751-1a2dbd1b93dc"
      },
      "outputs": [
        {
          "output_type": "execute_result",
          "data": {
            "text/plain": [
              "torch.Size([3, 224, 224])"
            ]
          },
          "metadata": {},
          "execution_count": 65
        }
      ],
      "source": [
        "rgb = torch.rand(size=(224, 224, 3)) # [h , w, c]\n",
        "\n",
        "rgb_permuted = torch.permute(rgb, dims=(2, 0, 1))\n",
        "rgb_permuted.size()"
      ]
    },
    {
      "cell_type": "markdown",
      "metadata": {
        "collapsed": false,
        "id": "5n8SJK7jp3bP"
      },
      "source": [
        "### Indexing Tensors"
      ]
    },
    {
      "cell_type": "code",
      "execution_count": null,
      "metadata": {
        "ExecuteTime": {
          "end_time": "2023-08-02T23:45:20.471635Z",
          "start_time": "2023-08-02T23:45:20.456322Z"
        },
        "colab": {
          "base_uri": "https://localhost:8080/"
        },
        "id": "zODhzyR2p3bP",
        "outputId": "9004697d-2b17-49b3-909c-711a2be2d035"
      },
      "outputs": [
        {
          "output_type": "execute_result",
          "data": {
            "text/plain": [
              "tensor([[[9, 0, 5],\n",
              "         [8, 2, 8],\n",
              "         [7, 8, 5]]])"
            ]
          },
          "metadata": {},
          "execution_count": 66
        }
      ],
      "source": [
        "x = torch.randint(11, (1, 3, 3))\n",
        "x"
      ]
    },
    {
      "cell_type": "code",
      "execution_count": null,
      "metadata": {
        "ExecuteTime": {
          "end_time": "2023-08-02T23:45:24.307604Z",
          "start_time": "2023-08-02T23:45:24.275138Z"
        },
        "colab": {
          "base_uri": "https://localhost:8080/"
        },
        "id": "EXOEyW4Dp3bP",
        "outputId": "acab95a1-7353-43cc-e6a9-24ec98b1561e"
      },
      "outputs": [
        {
          "output_type": "execute_result",
          "data": {
            "text/plain": [
              "tensor([[9, 0, 5],\n",
              "        [8, 2, 8],\n",
              "        [7, 8, 5]])"
            ]
          },
          "metadata": {},
          "execution_count": 67
        }
      ],
      "source": [
        "x[0]"
      ]
    },
    {
      "cell_type": "code",
      "execution_count": null,
      "metadata": {
        "ExecuteTime": {
          "end_time": "2023-08-02T23:45:24.529862Z",
          "start_time": "2023-08-02T23:45:24.514032Z"
        },
        "colab": {
          "base_uri": "https://localhost:8080/"
        },
        "id": "qh77-Wvlp3bP",
        "outputId": "7ed26ae8-7db7-47ea-f7f7-90fbc0220468"
      },
      "outputs": [
        {
          "output_type": "execute_result",
          "data": {
            "text/plain": [
              "tensor([8, 2, 8])"
            ]
          },
          "metadata": {},
          "execution_count": 68
        }
      ],
      "source": [
        "x[0][1]"
      ]
    },
    {
      "cell_type": "code",
      "execution_count": null,
      "metadata": {
        "ExecuteTime": {
          "end_time": "2023-08-02T23:45:24.725834Z",
          "start_time": "2023-08-02T23:45:24.711303Z"
        },
        "colab": {
          "base_uri": "https://localhost:8080/"
        },
        "id": "BdCN4H6ip3bP",
        "outputId": "c0a65d10-c4af-4d35-dd4b-976bb93f612a"
      },
      "outputs": [
        {
          "output_type": "execute_result",
          "data": {
            "text/plain": [
              "tensor(8)"
            ]
          },
          "metadata": {},
          "execution_count": 69
        }
      ],
      "source": [
        "x[0][1][0]"
      ]
    },
    {
      "cell_type": "code",
      "execution_count": null,
      "metadata": {
        "ExecuteTime": {
          "end_time": "2023-08-02T23:45:24.911905Z",
          "start_time": "2023-08-02T23:45:24.903978Z"
        },
        "colab": {
          "base_uri": "https://localhost:8080/"
        },
        "id": "fnzOmsXcp3bP",
        "outputId": "fa42266f-8e8b-4945-c5fa-e943a1b64834"
      },
      "outputs": [
        {
          "output_type": "execute_result",
          "data": {
            "text/plain": [
              "tensor([[9, 0, 5]])"
            ]
          },
          "metadata": {},
          "execution_count": 70
        }
      ],
      "source": [
        "x[:, 0] # use ':' to target all values of a dimension"
      ]
    },
    {
      "cell_type": "code",
      "execution_count": null,
      "metadata": {
        "ExecuteTime": {
          "end_time": "2023-08-02T23:45:25.116665Z",
          "start_time": "2023-08-02T23:45:25.108333Z"
        },
        "colab": {
          "base_uri": "https://localhost:8080/"
        },
        "id": "bjOMZd-Tp3bP",
        "outputId": "4508c22d-cd30-475b-9a4f-258634444283"
      },
      "outputs": [
        {
          "output_type": "execute_result",
          "data": {
            "text/plain": [
              "tensor([[9, 8, 7]])"
            ]
          },
          "metadata": {},
          "execution_count": 71
        }
      ],
      "source": [
        "x[:, :, 0] # first values of each row of each matrix"
      ]
    },
    {
      "cell_type": "code",
      "execution_count": null,
      "metadata": {
        "ExecuteTime": {
          "end_time": "2023-08-02T23:45:25.331264Z",
          "start_time": "2023-08-02T23:45:25.318648Z"
        },
        "colab": {
          "base_uri": "https://localhost:8080/"
        },
        "id": "p4-9Nvvbp3bP",
        "outputId": "b80201cd-1886-4037-adf2-af8735e965d4"
      },
      "outputs": [
        {
          "output_type": "execute_result",
          "data": {
            "text/plain": [
              "tensor([2])"
            ]
          },
          "metadata": {},
          "execution_count": 72
        }
      ],
      "source": [
        "x[:, 1, 1]"
      ]
    },
    {
      "cell_type": "code",
      "execution_count": null,
      "metadata": {
        "ExecuteTime": {
          "end_time": "2023-08-02T23:45:25.560339Z",
          "start_time": "2023-08-02T23:45:25.548394Z"
        },
        "colab": {
          "base_uri": "https://localhost:8080/"
        },
        "id": "Mlg5LXz8p3bP",
        "outputId": "335362df-9733-40fb-8014-90a2f2faf78a"
      },
      "outputs": [
        {
          "output_type": "execute_result",
          "data": {
            "text/plain": [
              "tensor([5])"
            ]
          },
          "metadata": {},
          "execution_count": 73
        }
      ],
      "source": [
        "x[:, 2, 2]"
      ]
    },
    {
      "cell_type": "code",
      "execution_count": null,
      "metadata": {
        "ExecuteTime": {
          "end_time": "2023-08-02T23:45:39.250123Z",
          "start_time": "2023-08-02T23:45:39.209054Z"
        },
        "colab": {
          "base_uri": "https://localhost:8080/"
        },
        "id": "Pe_VrhmDp3bP",
        "outputId": "a9e2be5c-7a90-4893-c9e0-f1cab0798714"
      },
      "outputs": [
        {
          "output_type": "execute_result",
          "data": {
            "text/plain": [
              "tensor([[5, 8, 5]])"
            ]
          },
          "metadata": {},
          "execution_count": 74
        }
      ],
      "source": [
        "x[:, :, 2]"
      ]
    },
    {
      "cell_type": "markdown",
      "metadata": {
        "collapsed": false,
        "id": "sOG8c4JMp3bP"
      },
      "source": [
        "### Tensors and NumPy\n",
        "* Converting data `torch.from_numpy(ndarray)`, `torch.Tensor.numpy()`"
      ]
    },
    {
      "cell_type": "code",
      "execution_count": null,
      "metadata": {
        "ExecuteTime": {
          "end_time": "2023-08-02T23:51:59.663946Z",
          "start_time": "2023-08-02T23:51:59.633338Z"
        },
        "colab": {
          "base_uri": "https://localhost:8080/"
        },
        "id": "nlUh7lgOp3bQ",
        "outputId": "06058342-358b-4170-df4f-65d070b2c71f"
      },
      "outputs": [
        {
          "output_type": "execute_result",
          "data": {
            "text/plain": [
              "(array([1, 2, 3, 4, 5, 6, 7, 8, 9]),\n",
              " tensor([1., 2., 3., 4., 5., 6., 7., 8., 9.]))"
            ]
          },
          "metadata": {},
          "execution_count": 75
        }
      ],
      "source": [
        "nd_array = np.arange(1, 10)\n",
        "tensor = torch.from_numpy(nd_array).type(torch.float32) # the dtype might not be what you want since it doesn't convert it to the default dtype of a tensor\n",
        "nd_array, tensor"
      ]
    },
    {
      "cell_type": "code",
      "execution_count": null,
      "metadata": {
        "ExecuteTime": {
          "end_time": "2023-08-02T23:54:10.719072Z",
          "start_time": "2023-08-02T23:54:10.684316Z"
        },
        "colab": {
          "base_uri": "https://localhost:8080/"
        },
        "id": "36l2sB0Fp3bQ",
        "outputId": "fadb1555-a521-45b0-8ec6-4a849c3f6e06"
      },
      "outputs": [
        {
          "output_type": "execute_result",
          "data": {
            "text/plain": [
              "(tensor([1., 1., 1., 1., 1., 1., 1., 1., 1.]),\n",
              " array([1., 1., 1., 1., 1., 1., 1., 1., 1.], dtype=float32))"
            ]
          },
          "metadata": {},
          "execution_count": 76
        }
      ],
      "source": [
        "tensor = torch.ones(9)\n",
        "nd_tensor = tensor.numpy()\n",
        "\n",
        "tensor, nd_tensor"
      ]
    },
    {
      "cell_type": "markdown",
      "metadata": {
        "collapsed": false,
        "id": "FmbF47RRp3bQ"
      },
      "source": [
        "## Reproducibility"
      ]
    },
    {
      "cell_type": "code",
      "execution_count": null,
      "metadata": {
        "ExecuteTime": {
          "end_time": "2023-08-03T00:02:25.203159Z",
          "start_time": "2023-08-03T00:02:25.185280Z"
        },
        "colab": {
          "base_uri": "https://localhost:8080/"
        },
        "id": "zIOLTGPcp3bQ",
        "outputId": "e0de9bea-215e-4b66-b2a2-efb0e66a5387"
      },
      "outputs": [
        {
          "output_type": "stream",
          "name": "stdout",
          "text": [
            "tensor([[0.5714, 0.6838, 0.4356, 0.6624],\n",
            "        [0.7843, 0.8305, 0.5212, 0.1361],\n",
            "        [0.0831, 0.3236, 0.7123, 0.3790]])\n",
            "tensor([[0.9082, 0.7416, 0.4505, 0.8607],\n",
            "        [0.8041, 0.8128, 0.0368, 0.8229],\n",
            "        [0.5896, 0.1719, 0.9254, 0.5301]])\n",
            "tensor([[False, False, False, False],\n",
            "        [False, False, False, False],\n",
            "        [False, False, False, False]])\n"
          ]
        }
      ],
      "source": [
        "x = torch.rand(3, 4)\n",
        "y = torch.rand(3, 4)\n",
        "\n",
        "print(x)\n",
        "print(y)\n",
        "print(x == y)"
      ]
    },
    {
      "cell_type": "code",
      "execution_count": null,
      "metadata": {
        "ExecuteTime": {
          "end_time": "2023-08-03T00:02:46.921597Z",
          "start_time": "2023-08-03T00:02:46.901736Z"
        },
        "colab": {
          "base_uri": "https://localhost:8080/"
        },
        "id": "QrlAPMwgp3bQ",
        "outputId": "319809d7-787e-41d9-b6cb-f9d0b6c042f4"
      },
      "outputs": [
        {
          "output_type": "stream",
          "name": "stdout",
          "text": [
            "tensor([[0.4963, 0.7682, 0.0885, 0.1320],\n",
            "        [0.3074, 0.6341, 0.4901, 0.8964],\n",
            "        [0.4556, 0.6323, 0.3489, 0.4017]])\n",
            "tensor([[0.4963, 0.7682, 0.0885, 0.1320],\n",
            "        [0.3074, 0.6341, 0.4901, 0.8964],\n",
            "        [0.4556, 0.6323, 0.3489, 0.4017]])\n",
            "tensor([[True, True, True, True],\n",
            "        [True, True, True, True],\n",
            "        [True, True, True, True]])\n"
          ]
        }
      ],
      "source": [
        "# Setting the random seed in pytorch\n",
        "\n",
        "RANDOM_SEED = 0\n",
        "torch.manual_seed(RANDOM_SEED) # only works for one method block\n",
        "x = torch.rand(3, 4)\n",
        "\n",
        "\n",
        "torch.manual_seed(RANDOM_SEED)\n",
        "y = torch.rand(3, 4)\n",
        "\n",
        "print(x)\n",
        "print(y)\n",
        "print(x == y)"
      ]
    },
    {
      "cell_type": "markdown",
      "metadata": {
        "collapsed": false,
        "id": "SR7Cp1Lrp3bQ"
      },
      "source": [
        "### Putting Tensor (and models) on and off a GPU"
      ]
    },
    {
      "cell_type": "code",
      "execution_count": null,
      "metadata": {
        "ExecuteTime": {
          "end_time": "2023-08-03T00:05:21.363015Z",
          "start_time": "2023-08-03T00:05:21.312484Z"
        },
        "colab": {
          "base_uri": "https://localhost:8080/"
        },
        "id": "JwoqY8Lkp3bQ",
        "outputId": "05d1a7a9-b763-47ad-881c-99e5502ae90a"
      },
      "outputs": [
        {
          "output_type": "stream",
          "name": "stdout",
          "text": [
            "tensor([1, 2, 3]) cpu\n"
          ]
        }
      ],
      "source": [
        "tensor = torch.tensor([1,2,3], device=device)\n",
        "print(tensor, tensor.device)"
      ]
    },
    {
      "cell_type": "code",
      "execution_count": null,
      "metadata": {
        "ExecuteTime": {
          "end_time": "2023-08-03T00:07:39.033150Z",
          "start_time": "2023-08-03T00:07:39.005973Z"
        },
        "colab": {
          "base_uri": "https://localhost:8080/"
        },
        "id": "YP_NiPjvp3bQ",
        "outputId": "d6a752ee-1b33-4081-be56-e8caa1f5023b"
      },
      "outputs": [
        {
          "output_type": "execute_result",
          "data": {
            "text/plain": [
              "array([1, 2, 3])"
            ]
          },
          "metadata": {},
          "execution_count": 81
        }
      ],
      "source": [
        "tensor.numpy()"
      ]
    },
    {
      "cell_type": "code",
      "execution_count": null,
      "metadata": {
        "ExecuteTime": {
          "end_time": "2023-08-03T00:08:09.880284Z",
          "start_time": "2023-08-03T00:08:09.834984Z"
        },
        "colab": {
          "base_uri": "https://localhost:8080/"
        },
        "id": "HRpcGynFp3bQ",
        "outputId": "d99a9beb-cf9f-419d-a425-4b487e37a464"
      },
      "outputs": [
        {
          "output_type": "execute_result",
          "data": {
            "text/plain": [
              "array([1, 2, 3])"
            ]
          },
          "metadata": {},
          "execution_count": 82
        }
      ],
      "source": [
        "tensor.cpu().numpy()"
      ]
    }
  ],
  "metadata": {
    "kernelspec": {
      "display_name": "Python 3",
      "language": "python",
      "name": "python3"
    },
    "language_info": {
      "codemirror_mode": {
        "name": "ipython",
        "version": 2
      },
      "file_extension": ".py",
      "mimetype": "text/x-python",
      "name": "python",
      "nbconvert_exporter": "python",
      "pygments_lexer": "ipython2",
      "version": "3.11.5"
    },
    "colab": {
      "provenance": [],
      "include_colab_link": true
    }
  },
  "nbformat": 4,
  "nbformat_minor": 0
}